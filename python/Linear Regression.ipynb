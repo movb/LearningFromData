{
 "cells": [
  {
   "cell_type": "code",
   "execution_count": 22,
   "metadata": {
    "collapsed": true
   },
   "outputs": [],
   "source": [
    "import numpy as np\n",
    "import math"
   ]
  },
  {
   "cell_type": "code",
   "execution_count": 23,
   "metadata": {
    "collapsed": true
   },
   "outputs": [],
   "source": [
    "def calc_gaussian_u(u,v):\n",
    "    return 2*(u*math.pow(np.e, v) - 2*v*math.pow(np.e,-u))*(math.pow(np.e, v) + 2*v*math.pow(np.e, -u))"
   ]
  },
  {
   "cell_type": "code",
   "execution_count": 24,
   "metadata": {
    "collapsed": true
   },
   "outputs": [],
   "source": [
    "def calc_gaussian_v(u,v):\n",
    "    return 2*(u*math.pow(np.e, v) - 2*v*math.pow(np.e,-u))*(u*math.pow(np.e, v) - 2*math.pow(np.e, -u))"
   ]
  },
  {
   "cell_type": "code",
   "execution_count": 32,
   "metadata": {
    "collapsed": false
   },
   "outputs": [],
   "source": [
    "def sgd_iterate(u, v, learning_rate):\n",
    "    new_u = u - learning_rate*calc_gaussian_u(u,v)\n",
    "    new_v = v - learning_rate*calc_gaussian_v(u,v)\n",
    "    return (new_u,new_v)"
   ]
  },
  {
   "cell_type": "code",
   "execution_count": 41,
   "metadata": {
    "collapsed": true
   },
   "outputs": [],
   "source": [
    "def sgd_coordinate_iterate(u, v, learning_rate):\n",
    "    new_u = u - learning_rate*calc_gaussian_u(u,v)\n",
    "    new_v = v - learning_rate*calc_gaussian_v(new_u,v)\n",
    "    return (new_u,new_v)"
   ]
  },
  {
   "cell_type": "code",
   "execution_count": 33,
   "metadata": {
    "collapsed": true
   },
   "outputs": [],
   "source": [
    "def calc_error(u,v):\n",
    "    return math.pow((u*math.pow(np.e, v) - 2*v*math.pow(np.e,-u)),2)"
   ]
  },
  {
   "cell_type": "code",
   "execution_count": 40,
   "metadata": {
    "collapsed": false
   },
   "outputs": [
    {
     "name": "stdout",
     "output_type": "stream",
     "text": [
      "1. U,V = -0.369542993197,0.213920553625; error = 1.15950972997\n",
      "2. U,V = 0.0305206903513,-0.507934045444; error = 1.00740748296\n",
      "3. U,V = 0.107523114199,-0.122210255574; error = 0.0990091216273\n",
      "4. U,V = 0.0656448258149,-0.0151665598769; error = 0.00866064536281\n",
      "5. U,V = 0.0478411706217,0.0184898992267; error = 0.000181755791728\n",
      "6. U,V = 0.0449994630994,0.0234992516968; error = 1.29723984784e-06\n",
      "7. U,V = 0.0447560190293,0.0239242964704; error = 7.29152469846e-09\n",
      "8. U,V = 0.0447377460407,0.0239561747966; error = 4.00999789056e-11\n",
      "9. U,V = 0.0447363908175,0.0239585389222; error = 2.20168344841e-13\n",
      "10. U,V = 0.0447362903978,0.0239587140991; error = 1.20868339442e-15\n"
     ]
    }
   ],
   "source": [
    "u=1.0\n",
    "v=1.0\n",
    "iterations = 1\n",
    "while calc_error(u,v) > 10E-14:\n",
    "    (u,v) = sgd_iterate(u,v,0.1)\n",
    "    print (\"{}. U,V = {},{}; error = {}\".format(iterations, u,v, calc_error(u,v)))\n",
    "    iterations+=1"
   ]
  },
  {
   "cell_type": "code",
   "execution_count": 42,
   "metadata": {
    "collapsed": false
   },
   "outputs": [
    {
     "name": "stdout",
     "output_type": "stream",
     "text": [
      "1. U,V = -0.369542993197,-2.03992288047; error = 34.2901631123\n",
      "2. U,V = 6.3924737648,-2.17869889007; error = 0.534142591372\n",
      "3. U,V = 6.37699523444,-2.28347262063; error = 0.432660827324\n",
      "4. U,V = 6.36460748637,-2.36821379387; error = 0.365039735019\n",
      "5. U,V = 6.35427658624,-2.43959481416; error = 0.31646807536\n",
      "6. U,V = 6.34542086477,-2.50137527574; error = 0.279763423064\n",
      "7. U,V = 6.3376780617,-2.55589956861; error = 0.250986311675\n",
      "8. U,V = 6.33080628124,-2.6047348478; error = 0.227783298944\n",
      "9. U,V = 6.32463553422,-2.64898351269; error = 0.208656695724\n",
      "10. U,V = 6.31904158643,-2.68945199663; error = 0.192605658614\n",
      "11. U,V = 6.31393077346,-2.72674884919; error = 0.178934748408\n",
      "12. U,V = 6.30923066644,-2.76134506639; error = 0.167145054343\n",
      "13. U,V = 6.30488406577,-2.79361293379; error = 0.15686898733\n",
      "14. U,V = 6.3008449881,-2.82385199281; error = 0.147829522524\n",
      "15. U,V = 6.29707589931,-2.85230695408; error = 0.139813791996\n"
     ]
    }
   ],
   "source": [
    "u=1.0\n",
    "v=1.0\n",
    "iterations = 1\n",
    "while iterations <= 15:\n",
    "    (u,v) = sgd_coordinate_iterate(u,v,0.1)\n",
    "    print (\"{}. U,V = {},{}; error = {}\".format(iterations, u,v, calc_error(u,v)))\n",
    "    iterations+=1"
   ]
  },
  {
   "cell_type": "code",
   "execution_count": 43,
   "metadata": {
    "collapsed": true
   },
   "outputs": [],
   "source": [
    "## Logistic Regression"
   ]
  },
  {
   "cell_type": "code",
   "execution_count": 55,
   "metadata": {
    "collapsed": false
   },
   "outputs": [],
   "source": [
    "import random\n",
    "def get_random_point():\n",
    "    return [random.uniform(-1.0,1.0), random.uniform(-1.0,1.0)]"
   ]
  },
  {
   "cell_type": "code",
   "execution_count": 61,
   "metadata": {
    "collapsed": true
   },
   "outputs": [],
   "source": [
    "def get_line(p1,p2):\n",
    "    (x1,y1) = p1\n",
    "    (x2,y2) = p2\n",
    "    \n",
    "    return np.array([ (float(x1)*y2 - float(x2)*y1), (float(y1)-y2), (float(x2)-x1) ])"
   ]
  },
  {
   "cell_type": "code",
   "execution_count": 62,
   "metadata": {
    "collapsed": false
   },
   "outputs": [],
   "source": [
    "line = get_line(get_random_point(),get_random_point())"
   ]
  },
  {
   "cell_type": "code",
   "execution_count": 63,
   "metadata": {
    "collapsed": false
   },
   "outputs": [
    {
     "data": {
      "text/plain": [
       "array([-0.33228816, -0.43580137,  0.38797457])"
      ]
     },
     "execution_count": 63,
     "metadata": {},
     "output_type": "execute_result"
    }
   ],
   "source": [
    "line"
   ]
  },
  {
   "cell_type": "code",
   "execution_count": 83,
   "metadata": {
    "collapsed": true
   },
   "outputs": [],
   "source": [
    "N = 100\n",
    "X = np.array([get_random_point() for _ in range(N)])\n",
    "X = np.hstack([np.ones(N).reshape(N,1),X])"
   ]
  },
  {
   "cell_type": "code",
   "execution_count": 95,
   "metadata": {
    "collapsed": false
   },
   "outputs": [],
   "source": [
    "Y = np.sign(X.dot(line))"
   ]
  },
  {
   "cell_type": "code",
   "execution_count": 94,
   "metadata": {
    "collapsed": false
   },
   "outputs": [
    {
     "data": {
      "text/plain": [
       "array([-1., -1.,  1., -1., -1., -1., -1., -1., -1., -1., -1., -1., -1.,\n",
       "        1., -1., -1.,  1., -1., -1.,  1., -1., -1., -1., -1., -1., -1.,\n",
       "       -1., -1., -1., -1., -1., -1.,  1.,  1., -1., -1., -1., -1., -1.,\n",
       "       -1.,  1.,  1., -1., -1., -1., -1.,  1., -1., -1., -1., -1., -1.,\n",
       "       -1., -1., -1., -1.,  1., -1., -1., -1., -1., -1., -1., -1., -1.,\n",
       "       -1., -1.,  1., -1., -1., -1., -1.,  1.,  1., -1., -1., -1.,  1.,\n",
       "       -1.,  1., -1., -1., -1.,  1., -1., -1., -1., -1., -1.,  1.,  1.,\n",
       "       -1., -1., -1.,  1., -1., -1., -1., -1., -1.])"
      ]
     },
     "execution_count": 94,
     "metadata": {},
     "output_type": "execute_result"
    }
   ],
   "source": [
    "def compute_gradient(X,y,w):\n",
    "    N = X.shape[0]\n",
    "    -1.0/N * ()"
   ]
  },
  {
   "cell_type": "code",
   "execution_count": null,
   "metadata": {
    "collapsed": true
   },
   "outputs": [],
   "source": []
  }
 ],
 "metadata": {
  "kernelspec": {
   "display_name": "Python [gl-env]",
   "language": "python",
   "name": "Python [gl-env]"
  },
  "language_info": {
   "codemirror_mode": {
    "name": "ipython",
    "version": 2
   },
   "file_extension": ".py",
   "mimetype": "text/x-python",
   "name": "python",
   "nbconvert_exporter": "python",
   "pygments_lexer": "ipython2",
   "version": "2.7.12"
  }
 },
 "nbformat": 4,
 "nbformat_minor": 0
}
