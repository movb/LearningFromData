{
 "cells": [
  {
   "cell_type": "code",
   "execution_count": 1,
   "metadata": {
    "collapsed": true
   },
   "outputs": [],
   "source": [
    "import numpy as np"
   ]
  },
  {
   "cell_type": "code",
   "execution_count": 2,
   "metadata": {
    "collapsed": true
   },
   "outputs": [],
   "source": [
    "def calc_gaussian_u(u,v):\n",
    "    return 2*(u*np.pow(np.e, v) - 2*v*np.pow(e,-u))*(np.pow(np.e, v) + 2*v*np.pow(np.e, -u))"
   ]
  },
  {
   "cell_type": "code",
   "execution_count": 3,
   "metadata": {
    "collapsed": true
   },
   "outputs": [],
   "source": [
    "def calc_gaussian_v(u,v):\n",
    "    return 2*(u*np.pow(np.e, v) - 2*v*np.pow(e,-u))*(u*np.pow(np.e, v) - 2*np.pow(np.e, -u))"
   ]
  },
  {
   "cell_type": "code",
   "execution_count": null,
   "metadata": {
    "collapsed": true
   },
   "outputs": [],
   "source": [
    "sgd_iterate(u, v, lerning_rate):\n",
    "    new_u = u - learning_rate*calc_gaussian_u(u,v)\n",
    "    new_v = v - learning_rate*calc_gaussian_v(u,v)\n",
    "    return (new_u,new_v)"
   ]
  }
 ],
 "metadata": {
  "kernelspec": {
   "display_name": "Python [gl-env]",
   "language": "python",
   "name": "Python [gl-env]"
  },
  "language_info": {
   "codemirror_mode": {
    "name": "ipython",
    "version": 2
   },
   "file_extension": ".py",
   "mimetype": "text/x-python",
   "name": "python",
   "nbconvert_exporter": "python",
   "pygments_lexer": "ipython2",
   "version": "2.7.12"
  }
 },
 "nbformat": 4,
 "nbformat_minor": 0
}
